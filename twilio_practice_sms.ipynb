{
  "nbformat": 4,
  "nbformat_minor": 0,
  "metadata": {
    "colab": {
      "name": "twilio_practice_sms",
      "provenance": [],
      "authorship_tag": "ABX9TyPf+IRUuMIZD+zgPKNnKlM5",
      "include_colab_link": true
    },
    "kernelspec": {
      "name": "python3",
      "display_name": "Python 3"
    },
    "language_info": {
      "name": "python"
    }
  },
  "cells": [
    {
      "cell_type": "markdown",
      "metadata": {
        "id": "view-in-github",
        "colab_type": "text"
      },
      "source": [
        "<a href=\"https://colab.research.google.com/github/Udemebilly/udemebilly/blob/main/twilio_practice_sms.ipynb\" target=\"_parent\"><img src=\"https://colab.research.google.com/assets/colab-badge.svg\" alt=\"Open In Colab\"/></a>"
      ]
    },
    {
      "cell_type": "code",
      "metadata": {
        "colab": {
          "base_uri": "https://localhost:8080/"
        },
        "id": "J1es-QZY7w3_",
        "outputId": "cc7afb6c-81b7-4b74-d122-b7e516bed170"
      },
      "source": [
        "pip install twilio"
      ],
      "execution_count": 1,
      "outputs": [
        {
          "output_type": "stream",
          "name": "stdout",
          "text": [
            "Collecting twilio\n",
            "  Downloading twilio-6.63.1.tar.gz (489 kB)\n",
            "\u001b[K     |████████████████████████████████| 489 kB 4.0 MB/s \n",
            "\u001b[?25hRequirement already satisfied: six in /usr/local/lib/python3.7/dist-packages (from twilio) (1.15.0)\n",
            "Requirement already satisfied: pytz in /usr/local/lib/python3.7/dist-packages (from twilio) (2018.9)\n",
            "Collecting PyJWT==1.7.1\n",
            "  Downloading PyJWT-1.7.1-py2.py3-none-any.whl (18 kB)\n",
            "Requirement already satisfied: requests>=2.0.0 in /usr/local/lib/python3.7/dist-packages (from twilio) (2.23.0)\n",
            "Requirement already satisfied: urllib3!=1.25.0,!=1.25.1,<1.26,>=1.21.1 in /usr/local/lib/python3.7/dist-packages (from requests>=2.0.0->twilio) (1.24.3)\n",
            "Requirement already satisfied: idna<3,>=2.5 in /usr/local/lib/python3.7/dist-packages (from requests>=2.0.0->twilio) (2.10)\n",
            "Requirement already satisfied: chardet<4,>=3.0.2 in /usr/local/lib/python3.7/dist-packages (from requests>=2.0.0->twilio) (3.0.4)\n",
            "Requirement already satisfied: certifi>=2017.4.17 in /usr/local/lib/python3.7/dist-packages (from requests>=2.0.0->twilio) (2021.5.30)\n",
            "Building wheels for collected packages: twilio\n",
            "  Building wheel for twilio (setup.py) ... \u001b[?25l\u001b[?25hdone\n",
            "  Created wheel for twilio: filename=twilio-6.63.1-py2.py3-none-any.whl size=1295428 sha256=5bc2ad36869036829b5dd1a77ea5c5b43a4716dfb1f2255b6087ddc986ba9a7e\n",
            "  Stored in directory: /root/.cache/pip/wheels/47/fa/7d/91dc7df1ecf5c7332af8d435ed0ee5495237fbbd2db651e423\n",
            "Successfully built twilio\n",
            "Installing collected packages: PyJWT, twilio\n",
            "Successfully installed PyJWT-1.7.1 twilio-6.63.1\n"
          ]
        }
      ]
    },
    {
      "cell_type": "code",
      "metadata": {
        "id": "f8gKxk5K74ok"
      },
      "source": [
        "from twilio.rest import Client"
      ],
      "execution_count": 2,
      "outputs": []
    },
    {
      "cell_type": "code",
      "metadata": {
        "id": "N4JoIDPzAcOi"
      },
      "source": [
        "# client = Client ('ACCount sid', 'Account token')\n",
        "\n",
        "# for msg in client.messages.list():\n",
        "#     print (msg.body)"
      ],
      "execution_count": 5,
      "outputs": []
    },
    {
      "cell_type": "code",
      "metadata": {
        "colab": {
          "base_uri": "https://localhost:8080/"
        },
        "id": "RY0SUY2s8Fva",
        "outputId": "3a83c349-e968-400c-b414-0dc6441a618c"
      },
      "source": [
        "account_sid = 'ACe14244c90008fa9454c8e231863846fa'\n",
        "auth_token = '138fe4592e10c0746b3a6431586147ed'\n",
        "client = Client(account_sid, auth_token)\n",
        "message = client.messages.create( \n",
        "     to = \"+491788248194\", \n",
        "    from_ =\"+15619836443\",\n",
        "    body = \"Hello from Python!\"\n",
        "\n",
        "    )\n",
        "print(message.sid)"
      ],
      "execution_count": 8,
      "outputs": [
        {
          "output_type": "stream",
          "name": "stdout",
          "text": [
            "SM0a2954ce2a8542509714140470886eee\n"
          ]
        }
      ]
    },
    {
      "cell_type": "code",
      "metadata": {
        "id": "7i68-nOY90OI"
      },
      "source": [
        ""
      ],
      "execution_count": 4,
      "outputs": []
    }
  ]
}
